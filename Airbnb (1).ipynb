{
  "nbformat": 4,
  "nbformat_minor": 0,
  "metadata": {
    "colab": {
      "provenance": []
    },
    "kernelspec": {
      "name": "python3",
      "display_name": "Python 3"
    },
    "language_info": {
      "name": "python"
    }
  },
  "cells": [
    {
      "cell_type": "code",
      "source": [
        "import pandas as pd\n",
        "import numpy as np\n",
        "import matplotlib.pyplot as plt\n",
        "import seaborn as sns\n",
        "\n",
        "# Read the data\n",
        "df = pd.read_csv('/content/listings.csv')\n",
        "\n",
        "# Convert 'last_review' column to datetime\n",
        "df['last_review'] = pd.to_datetime(df['last_review'])\n",
        "\n",
        "# Seasonal Variation in Prices\n",
        "df['month'] = df['last_review'].dt.month\n",
        "seasonal_prices = df.groupby(['neighbourhood', 'month'])['price'].mean().unstack()\n",
        "plt.figure(figsize=(12, 8))\n",
        "sns.heatmap(seasonal_prices, cmap='viridis', annot=True, fmt=\".0f\")\n",
        "plt.title('Seasonal Variation in Prices by Neighborhood')\n",
        "plt.xlabel('Month')\n",
        "plt.ylabel('Neighbourhood')\n",
        "plt.show()\n",
        "\n",
        "# Host Performance Analysis\n",
        "plt.figure(figsize=(10, 6))\n",
        "sns.scatterplot(x='number_of_reviews', y='price', data=df)\n",
        "plt.title('Price vs Number of Reviews')\n",
        "plt.xlabel('Number of Reviews')\n",
        "plt.ylabel('Price')\n",
        "plt.show()\n",
        "\n",
        "# Geospatial Analysis\n",
        "plt.figure(figsize=(10, 10))\n",
        "sns.scatterplot(x='longitude', y='latitude', hue='price', size='price', data=df)\n",
        "plt.title('Geospatial Distribution of Listings by Price')\n",
        "plt.xlabel('Longitude')\n",
        "plt.ylabel('Latitude')\n",
        "plt.legend(title='Price')\n",
        "plt.show()\n",
        "\n",
        "# Availability Trends\n",
        "availability_trends = df.groupby(['month'])['availability_365'].mean()\n",
        "plt.figure(figsize=(10, 6))\n",
        "availability_trends.plot(kind='line', marker='o')\n",
        "plt.title('Availability Trends Over Months')\n",
        "plt.xlabel('Month')\n",
        "plt.ylabel('Mean Availability (in days)')\n",
        "plt.xticks(np.arange(1, 13), ['Jan', 'Feb', 'Mar', 'Apr', 'May', 'Jun', 'Jul', 'Aug', 'Sep', 'Oct', 'Nov', 'Dec'])\n",
        "plt.show()\n",
        "\n",
        "# Text Analysis of Listing Names\n",
        "from wordcloud import WordCloud\n",
        "\n",
        "text = ' '.join(df['name'].astype(str))\n",
        "wordcloud = WordCloud(width=800, height=400, background_color='white').generate(text)\n",
        "\n",
        "plt.figure(figsize=(10, 6))\n",
        "plt.imshow(wordcloud, interpolation='bilinear')\n",
        "plt.axis('off')\n",
        "plt.title('Word Cloud of Listing Names')\n",
        "plt.show()\n"
      ],
      "metadata": {
        "id": "-4V5bBoQZeZB"
      },
      "execution_count": null,
      "outputs": []
    },
    {
      "cell_type": "markdown",
      "source": [
        "This code implements several of the suggested analyses:\n",
        "\n",
        "Seasonal Variation in Prices: Visualizes the average prices by neighborhood over the months of the year.\n",
        "Host Performance Analysis: Shows the relationship between the number of reviews and the price of listings.\n",
        "Geospatial Analysis: Plots the listings on a map with colors and sizes representing the prices.\n",
        "Availability Trends: Displays the mean availability over the months.\n",
        "Text Analysis of Listing Names: Creates a word cloud of the listing names to identify common descriptive words or phrases."
      ],
      "metadata": {
        "id": "7qX_3u1eZhGA"
      }
    },
    {
      "cell_type": "code",
      "source": [],
      "metadata": {
        "id": "AwZM7SykZg44"
      },
      "execution_count": null,
      "outputs": []
    }
  ]
}