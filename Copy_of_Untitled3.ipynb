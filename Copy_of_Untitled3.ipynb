{
  "nbformat": 4,
  "nbformat_minor": 0,
  "metadata": {
    "colab": {
      "provenance": []
    },
    "kernelspec": {
      "name": "python3",
      "display_name": "Python 3"
    },
    "language_info": {
      "name": "python"
    }
  },
  "cells": [
    {
      "cell_type": "code",
      "source": [
        "import pandas as pd\n",
        "import numpy as np\n",
        "\n",
        "class DataPrepKit:\n",
        "    def __init__(self, data_path):\n",
        "        self.data_path = data_path\n",
        "        self.data = None\n",
        "\n",
        "    def read_data(self):\n",
        "        # Determine file type and read data accordingly\n",
        "        if self.data_path.endswith('.csv'):\n",
        "            self.data = pd.read_csv(self.data_path)\n",
        "        elif self.data_path.endswith('.xlsx'):\n",
        "            self.data = pd.read_excel(self.data_path)\n",
        "        elif self.data_path.endswith('.json'):\n",
        "            self.data = pd.read_json(self.data_path)\n",
        "        else:\n",
        "            raise ValueError(\"Unsupported file format. Please provide data in CSV, Excel, or JSON format.\")\n",
        "\n",
        "    def data_summary(self):\n",
        "        # Generate key statistical summaries\n",
        "        summary = self.data.describe()\n",
        "        return summary\n",
        "\n",
        "    def handle_missing_values(self, strategy='remove'):\n",
        "        # Handle missing values based on the specified strategy\n",
        "        if strategy == 'remove':\n",
        "            self.data.dropna(inplace=True)\n",
        "        elif strategy == 'impute':\n",
        "            # Implement imputation strategy here (e.g., mean, median, mode)\n",
        "            pass\n",
        "        else:\n",
        "            raise ValueError(\"Invalid strategy. Please choose either 'remove' or 'impute'.\")\n",
        "\n",
        "    def encode_categorical_data(self):\n",
        "        # Encode categorical data\n",
        "        encoded_data = pd.get_dummies(self.data, drop_first=True)\n",
        "        return encoded_data\n",
        "\n",
        "# Example usage\n",
        "if __name__ == \"__main__\":\n",
        "    # Ask user to input data path\n",
        "    data_path = input(\"Enter the path to your dataset: \")\n",
        "\n",
        "    # Initialize DataPrepKit object\n",
        "    data_prep = DataPrepKit(data_path)\n",
        "\n",
        "    # Read data\n",
        "    data_prep.read_data()\n",
        "\n",
        "    # Basic analysis on data\n",
        "    summary = data_prep.data_summary()\n",
        "    print(\"Data Summary:\")\n",
        "    print(summary)\n",
        "\n",
        "    # Handle missing values\n",
        "    data_prep.handle_missing_values(strategy='remove')\n",
        "\n",
        "    # Categorical Data Encoding\n",
        "    encoded_data = data_prep.encode_categorical_data()\n",
        "    print(\"Encoded Data:\")\n",
        "    print(encoded_data.head())\n"
      ],
      "metadata": {
        "id": "gL6KDR27suzk"
      },
      "execution_count": null,
      "outputs": []
    }
  ]
}