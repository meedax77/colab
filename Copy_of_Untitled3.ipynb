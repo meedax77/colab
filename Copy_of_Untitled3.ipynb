{
  "nbformat": 4,
  "nbformat_minor": 0,
  "metadata": {
    "colab": {
      "provenance": [],
      "authorship_tag": "ABX9TyPbq+jNwePF4kWeybskgd/G",
      "include_colab_link": true
    },
    "kernelspec": {
      "name": "python3",
      "display_name": "Python 3"
    },
    "language_info": {
      "name": "python"
    }
  },
  "cells": [
    {
      "cell_type": "markdown",
      "metadata": {
        "id": "view-in-github",
        "colab_type": "text"
      },
      "source": [
        "<a href=\"https://colab.research.google.com/github/meedax77/colab/blob/main/Copy_of_Untitled3.ipynb\" target=\"_parent\"><img src=\"https://colab.research.google.com/assets/colab-badge.svg\" alt=\"Open In Colab\"/></a>"
      ]
    },
    {
      "cell_type": "code",
      "source": [
        "import pandas as pd\n",
        "import numpy as np\n",
        "\n",
        "# Define the number of rows for the sample dataset\n",
        "num_rows = 1000\n",
        "\n",
        "# Generate random data for the sample dataset\n",
        "np.random.seed(0)  # For reproducibility\n",
        "\n",
        "# Generate ID\n",
        "ids = np.arange(1, num_rows + 1)\n",
        "\n",
        "# Generate age (between 18 and 80)\n",
        "age = np.random.randint(18, 81, size=num_rows)\n",
        "\n",
        "# Generate gender (Male, Female, Other)\n",
        "gender = np.random.choice(['Male', 'Female', 'Other'], size=num_rows)\n",
        "\n",
        "# Generate education level\n",
        "education_levels = ['High School', \"Bachelor's Degree\", \"Master's Degree\", 'PhD']\n",
        "education = np.random.choice(education_levels, size=num_rows)\n",
        "\n",
        "# Generate income (between $20,000 and $200,000)\n",
        "income = np.random.randint(20000, 200001, size=num_rows)\n",
        "\n",
        "# Generate country of residence\n",
        "countries = ['USA', 'UK', 'Canada', 'Australia', 'Germany']\n",
        "country = np.random.choice(countries, size=num_rows)\n",
        "\n",
        "# Generate marital status\n",
        "marital_status = ['Single', 'Married', 'Divorced']\n",
        "children = np.random.randint(0, 4, size=num_rows)\n",
        "marital_status = np.random.choice(marital_status, size=num_rows)\n",
        "\n",
        "# Generate number of children (between 0 and 3)\n",
        "children = np.random.randint(0, 4, size=num_rows)\n",
        "\n",
        "# Generate smoker status\n",
        "smoker = np.random.choice(['Yes', 'No'], size=num_rows)\n",
        "\n",
        "# Generate BMI (between 18 and 40)\n",
        "bmi = np.random.uniform(18, 40, size=num_rows)\n",
        "\n",
        "# Generate blood pressure (systolic) (between 90 and 180)\n",
        "blood_pressure_systolic = np.random.randint(90, 181, size=num_rows)\n",
        "\n",
        "# Generate cholesterol level (between 120 and 300)\n",
        "cholesterol_level = np.random.randint(120, 301, size=num_rows)\n",
        "\n",
        "# Generate diabetes status\n",
        "diabetes = np.random.choice(['Yes', 'No'], size=num_rows)\n",
        "\n",
        "# Create DataFrame\n",
        "data = pd.DataFrame({\n",
        "    'ID': ids,\n",
        "    'Age': age,\n",
        "    'Gender': gender,\n",
        "    'Education': education,\n",
        "    'Income': income,\n",
        "    'Country': country,\n",
        "    'Marital Status': marital_status,\n",
        "    'Children': children,\n",
        "    'Smoker': smoker,\n",
        "    'BMI': bmi,\n",
        "    'Blood Pressure': blood_pressure_systolic,\n",
        "    'Cholesterol Level': cholesterol_level,\n",
        "    'Diabetes': diabetes\n",
        "})\n",
        "\n",
        "# Save DataFrame to CSV\n",
        "data.to_csv('sample_dataset.csv', index=False)\n",
        "\n",
        "print(\" dataset has been generated and saved as 'sample_dataset.csv'.\")"
      ],
      "metadata": {
        "colab": {
          "base_uri": "https://localhost:8080/"
        },
        "id": "qlQd_zUq0JFx",
        "outputId": "d3c2cc8f-38ff-4079-bf4c-393ec0db4d11"
      },
      "execution_count": null,
      "outputs": [
        {
          "output_type": "stream",
          "name": "stdout",
          "text": [
            " dataset has been generated and saved as 'sample_dataset.csv'.\n"
          ]
        }
      ]
    }
  ]
}